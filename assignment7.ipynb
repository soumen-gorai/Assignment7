{
  "nbformat": 4,
  "nbformat_minor": 0,
  "metadata": {
    "colab": {
      "provenance": [],
      "authorship_tag": "ABX9TyMjvdmAMFVGJDf9LSr1HWFl",
      "include_colab_link": true
    },
    "kernelspec": {
      "name": "python3",
      "display_name": "Python 3"
    },
    "language_info": {
      "name": "python"
    }
  },
  "cells": [
    {
      "cell_type": "markdown",
      "metadata": {
        "id": "view-in-github",
        "colab_type": "text"
      },
      "source": [
        "<a href=\"https://colab.research.google.com/github/soumen-gorai/Assignment7/blob/main/assignment7.ipynb\" target=\"_parent\"><img src=\"https://colab.research.google.com/assets/colab-badge.svg\" alt=\"Open In Colab\"/></a>"
      ]
    },
    {
      "cell_type": "markdown",
      "source": [
        "#1. What is the difference between interpreted and compiled languages.\n",
        ":-\n",
        "**Compiled Languages**\n",
        "\n",
        "**Process**: In compiled languages, the source code is translated into machine code by a compiler before execution. This step happens once, producing an executable file that can be run directly by the computer's operating system.\n",
        "Examples: C, C++, Rust, Go\n",
        "\n",
        "**Execution**: After compilation, the program runs directly from the executable file, without needing the source code again.\n",
        "\n",
        "**Speed**: Since the code is already compiled into machine code, execution is generally faster compared to interpreted languages.\n",
        "\n",
        "**Interpreted Languages**\n",
        "\n",
        "Process: In interpreted languages, the source code is not precompiled. Instead, an interpreter reads and executes the code line-by-line or statement-by-statement at runtime, converting it to machine code dynamically.\n",
        "Examples: Python, JavaScript, Ruby, PHP\n",
        "\n",
        "Execution: The interpreter translates the code on the fly, so the program cannot be executed without the interpreter being present.\n",
        "\n",
        "Speed: Since the translation happens at runtime, interpreted languages are generally slower than compiled ones, as there is an additional layer of processing."
      ],
      "metadata": {
        "id": "KqMX7iO6mcex"
      }
    },
    {
      "cell_type": "markdown",
      "source": [
        "#2. What is exception handling in Python ?\n",
        ":- Exception handling in Python is a mechanism that allows you to handle runtime errors exceptions in a controlled way, without crashing the program. Instead of having the program terminate abruptly when an error occurs, exception handling allows you to \"catch\" the error, manage it, and decide how the program should proceed.\n",
        "\n",
        "Python provides a simple syntax for handling exceptions using the try, except, else, and finally blocks."
      ],
      "metadata": {
        "id": "rx3GBmeindTs"
      }
    },
    {
      "cell_type": "markdown",
      "source": [
        "#3. What is the purpose of the finally block in exception handling ?\n",
        ":- The finally block in Python's exception handling mechanism is used to ensure that specific code is always executed, regardless of whether an exception was raised or not. The main purpose of the finally block is to perform cleanup tasks or to release resources that need to be freed up after the try-except process, such as closing files, releasing database connections, or shutting down network connections.\n",
        "\n",
        "Key Characteristics of the finally Block:\n",
        "Always Executes: The finally block will always run, even if an exception was raised or not, and even if there is an exception in the except block. This ensures that essential finalization code is executed.\n",
        "\n",
        "After try and except: It runs after the try block and any except block have finished executing."
      ],
      "metadata": {
        "id": "Yn0ohMTZn9Sl"
      }
    },
    {
      "cell_type": "markdown",
      "source": [
        "#4. What is logging in Python ?\n",
        ":- Logging in Python is a way to track events that happen during the execution of a program, which helps you monitor the program's behavior, debug issues, and maintain a record of application activity. The Python logging module provides a flexible framework for adding logging to your application. It allows you to record messages at various severity levels, such as DEBUG, INFO, WARNING, ERROR, and CRITICAL, and output those messages to different destinations, like the console, files, or external systems.\n",
        "\n",
        "**Why Use Logging?**\n",
        "\n",
        "Debugging: Helps track down bugs or unexpected behavior by recording information about the program's state at different points.\n",
        "\n",
        "Monitoring: Tracks events like user actions, system status, or external API calls.\n",
        "\n",
        "Record Keeping: Maintains logs for auditing purposes or system performance metrics.\n",
        "\n",
        "Error Handling: Captures error details to help identify problems or failure points in the code.\n"
      ],
      "metadata": {
        "id": "vq49yTrHoh_j"
      }
    },
    {
      "cell_type": "markdown",
      "source": [
        "#5. What is the significance of the __del__ method in Python ?\n",
        ";- In Python, the __del__ method is a special method, also known as a destructor. Its primary role is to define the behavior when an object is about to be destroyed or when it is no longer needed. This method is called automatically when the reference count of an object drops to zero, indicating that it is about to be garbage collected.\n",
        "\n",
        "However, there are some important nuances and limitations to be aware of when using __del__ in Python.\n",
        "\n",
        "Key Points about the __del__ Method\n",
        "Destructor Behavior: The __del__ method allows you to define cleanup actions that need to be performed before an object is destroyed. This could include:\n",
        "\n",
        "Closing files\n",
        "\n",
        "Releasing network connections\n",
        "\n",
        "Freeing up other resources like memory, database connections, or hardware"
      ],
      "metadata": {
        "id": "2A1i0uXLpBd2"
      }
    },
    {
      "cell_type": "markdown",
      "source": [
        "#6. What is the difference between import and from ... import in Python?\n",
        ":- **import Statement**\n",
        "\n",
        "The import statement is used to import an entire module into your program. After using import, you need to reference the module's functions, classes, or variables using the module's name as a prefix.\n",
        "\n",
        "**from ... import Statement**\n",
        "\n",
        "The from ... import statement is used to import specific (items such as functions, classes, or variables) from a module, directly into the current namespace. This allows you to use them without the module name prefix.\n",
        "\n",
        "#Key Differences:-\n",
        "\n",
        "1.   **Import statement**\n",
        "*   Import the entire module.\n",
        "*   Access via the module name\n",
        "*   Adds the module name as a namespace .\n",
        "\n",
        "2.   **from ... import Statement**\n",
        "\n",
        "*   Import Specific elements (functions, classes, variables) from the module.\n",
        "\n",
        "*   Access directly using the element name.\n",
        "*   Adds the element directly to the namespace.\n",
        "\n",
        "\n",
        "\n"
      ],
      "metadata": {
        "id": "6CrvgWfPpgcX"
      }
    },
    {
      "cell_type": "code",
      "source": [
        "# import module_name # for import statement\n",
        "# from module_name import element_name # from ... import Statement"
      ],
      "metadata": {
        "id": "oc7q45d3pv1P"
      },
      "execution_count": null,
      "outputs": []
    },
    {
      "cell_type": "markdown",
      "source": [
        "#7. How can you handle multiple exceptions in Python?\n",
        ":-\n",
        "1. Using Multiple except Clauses\n",
        "\n",
        "  You can specify multiple except clauses to handle different types of exceptions separately. This approach allows you to take different actions based on the specific exception raised.\n",
        "2. Using a Single except Clause with a Tuple of Exceptions\n",
        "\n",
        "  You can also handle multiple exceptions in a single except clause by specifying them in a tuple. This is useful when you want to handle different exceptions in the same way.\n",
        "3. Using else and finally with Multiple Exceptions\n",
        "\n",
        "  You can combine multiple except clauses with else and finally for more complex exception handling.\n",
        "\n",
        "  else block: If no exception occurs, the code inside the else block is executed.\n",
        "\n",
        "  finally block: The code inside the finally block always runs, regardless of whether an exception occurred or not. It's useful for cleanup operations.\n",
        "\n",
        "\n"
      ],
      "metadata": {
        "id": "4mou1jlMrqMs"
      }
    },
    {
      "cell_type": "markdown",
      "source": [
        "#8. What is the purpose of the with statement when handling files in Python?\n",
        "**Automatic File Closing:**\n",
        "\n",
        "When you open a file using the with statement, Python automatically closes the file when the block of code inside the with statement is done executing. This is true even if an error occurs during file operations.\n",
        "\n",
        "Without the with statement, you would need to manually call file.close() to release the file, which could lead to errors if you forget to do so.\n",
        "\n",
        "**Prevents Resource Leaks:**\n",
        "\n",
        "If an error occurs inside the with block , Python ensures that the file is still closed properly. This is essential for preventing resource leaks, which could lead to issues like too many open file handles.\n",
        "\n",
        "**Cleaner, More Readable Code:**\n",
        "\n",
        "The with statement reduces boilerplate code. You don't have to explicitly call file.close() at the end of your code, which makes your program easier to read and less error-prone."
      ],
      "metadata": {
        "id": "5ugDJPmnqLZD"
      }
    },
    {
      "cell_type": "markdown",
      "source": [
        "#9. What is the difference between multithreading and multiprocessing?\n",
        ":-\n",
        "#1.   Multithreading\n",
        "*   Multiple threads within a single process.\n",
        "*   Threads share the same memory space.\n",
        "*   Best for I/O-bound tasks.\n",
        "*   Affects Python threads, limiting concurrent CPU-bound work.\n",
        "\n",
        "#2.   Multiprocessing\n",
        "*   Multiple processes, each with its own memory space.\n",
        "*   Each process has its own memory space.\n",
        "*   Best for CPU-bound tasks.\n",
        "*   No GIL, so processes can fully utilize multiple CPU cores.\n",
        "\n",
        "\n"
      ],
      "metadata": {
        "id": "M995IWMVt5ML"
      }
    },
    {
      "cell_type": "markdown",
      "source": [
        "#10. What are the advantages of using logging in a program?\n",
        ":-\n",
        "\n",
        "**Structured output:** Logs are well-structured and can contain useful metadata .\n",
        "\n",
        "**Configurable levels of severity:** You can control the verbosity of logs.\n",
        "\n",
        "**Persistence:** Logs can be written to files for later review, which is useful for debugging and auditing.\n",
        "\n",
        "**Thread-safe:** Safely handles concurrent logging in multithreaded programs.\n",
        "\n",
        "**Flexibility:** Logs can be directed to different destinations.\n",
        "\n",
        "**Log rotation and management:** Prevents log files from growing too large by automatically rotating logs.\n",
        "\n",
        "**Better scalability:** Works well for large and long-running applications.\n"
      ],
      "metadata": {
        "id": "UUfOX0MbvEzc"
      }
    },
    {
      "cell_type": "markdown",
      "source": [
        "#11. What is memory management in Python?\n",
        ":- Memory management in Python refers to the process of allocating, using, and deallocating memory during the execution of a Python program. Efficient memory management ensures that memory is allocated and freed properly to avoid memory leaks, excessive memory usage, or crashes. Python's memory management system handles this automatically to a large extent, but understanding its mechanisms can help you write more efficient programs.\n",
        "\n",
        "1. **Automatic Memory Allocation and Deallocation:**\n",
        "\n",
        "  Python handles memory allocation and deallocation for you, meaning you generally don't need to manually manage memory as you would in lower-level languages like C or C++.\n",
        "The Python memory manager keeps track of objects and frees the memory when it is no longer needed, using a technique known as garbage collection.\n",
        "\n",
        "2. **Reference Counting:**\n",
        "\n",
        "  Python uses reference counting to keep track of how many references are pointing to a particular object in memory.\n",
        "\n",
        "3. **Memory Allocation for Objects:**\n",
        "\n",
        "  Every object in Python, whether it's a simple data type like an integer or a complex data structure like a list, is represented by a PyObject. This is a structure that includes information about the object's type, reference count, and its actual data.\n"
      ],
      "metadata": {
        "id": "b-86U0Tdu_-W"
      }
    },
    {
      "cell_type": "markdown",
      "source": [
        "#12. What are the basic steps involved in exception handling in Python?\n",
        ":-\n",
        "1. **Use a try block:**\n",
        "The first step is to wrap the code that might raise an exception in a try block. The try block is where you place the code that you want to execute, and it is the code that Python will monitor for exceptions.\n",
        "\n",
        "2. **Catch exceptions with an except block:**\n",
        "After the try block, you use one or more except blocks to specify how to handle different types of exceptions. If an exception occurs inside the try block, Python will search for an appropriate except block to handle the exception.\n",
        "\n",
        "3. **Optionally, use an else block:**\n",
        "The else block is optional and is used to define code that should run if no exception occurs in the try block. If no exception is raised, the code in the else block will execute.\n",
        "\n",
        "4. **Optionally, use a finally block:**\n",
        "The finally block is also optional and contains code that is guaranteed to run no matter what, whether an exception is raised or not. This is typically used for clean-up actions, such as closing files, releasing resources, or committing changes to a database.\n"
      ],
      "metadata": {
        "id": "jr697Js8yzfx"
      }
    },
    {
      "cell_type": "markdown",
      "source": [
        "#13. Why is memory management important in Python?\n",
        ":-\n",
        "1. **Efficient Use of System Resources**:Memory is a limited resource, especially on systems with restricted resources . Efficient memory management ensures that your Python programs don't consume excessive memory, which could degrade performance or cause the program to run out of memory.\n",
        "2. **Avoiding Memory Leaks**:\n",
        "Memory leaks occur when the program continues to consume more memory without releasing it after use. Over time, memory leaks can cause the program to consume all available memory, leading to slowdowns or crashes.\n",
        "3. **Ensuring Program Stability**:\n",
        "Efficient memory management helps ensure that your program runs reliably and predictably.\n",
        "4. **Optimizing Performance**:\n",
        "Memory access speed: Efficient memory management can improve the performance of your program.\n",
        "5. **Handling Multi-threading and Multiprocessing**:\n",
        "Python's memory management system is thread-safe, meaning that memory allocation and deallocation are done in such a way that it supports multi-threaded programs.\n"
      ],
      "metadata": {
        "id": "dBo-mh39zdTz"
      }
    },
    {
      "cell_type": "markdown",
      "source": [
        "#14. What is the role of try and except in exception handling?\n",
        ":-\n",
        "# Role of try:\n",
        "\n",
        "**Attempt execution of code:** The code that might raise an error goes inside the try block.\n",
        "\n",
        "**Catch and forward exceptions:** If an exception occurs inside the try block, the exception is caught and passed to the except block for handling.\n",
        "\n",
        "**Safe execution:** The program will not crash due to exceptions raised in the try block; instead, it will handle the error appropriately.\n",
        "\n",
        "#Role of except:\n",
        "\n",
        "**Handle specific exceptions:** The except block can be used to catch specific types of exceptions or handle a general exception if no specific type is mentioned.\n",
        "\n",
        "**Provide error handling logic:** You can log an error, print an error message, or even recover from the error and continue execution.\n"
      ],
      "metadata": {
        "id": "GNrCozeX0jWd"
      }
    },
    {
      "cell_type": "markdown",
      "source": [
        "#15. How does Python's garbage collection system work?\n",
        ":-\n",
        "1. **Reference Counting:**\n",
        "The primary memory management mechanism in Python is reference counting. Every object in Python has an associated reference count, which tracks how many references point to that object.\n",
        "\n",
        "2. **Cyclic Garbage Collection:**\n",
        "Python's cyclic garbage collector is designed to address the issue of circular references. Circular references occur when two or more objects refer to each other, forming a cycle. In such cases, even if no external references exist to the objects in the cycle, their reference count will never reach zero due to the mutual references.\n",
        "\n",
        "3. **The gc Module:**\n",
        "The gc module in Python provides an interface to interact with the garbage collection system. You can use it to control the garbage collection process, trigger manual garbage collection, and inspect the state of objects that are being tracked.\n",
        "\n",
        "4. **Memory Pools:**\n",
        "Python uses an internal memory allocator called pymalloc to manage memory for small objects. This helps speed up memory allocation and deallocation by pooling memory for frequently created and destroyed small objects.\n"
      ],
      "metadata": {
        "id": "7pX_BGJg1I8b"
      }
    },
    {
      "cell_type": "markdown",
      "source": [
        "#16.  What is the purpose of the else block in exception handling?\n",
        ":-\n",
        "**Execute Code When No Exception Occurs:** The else block contains code that will only run if no exceptions are raised in the try block. It provides a way to clearly separate the normal flow of execution from the error-handling flow.\n",
        "\n",
        "**Improves Code Readability:** Using the else block helps to make the intention of your code clearer. It explicitly indicates that the code in the else block is executed only if everything in the try block executes successfully without raising any exceptions.\n",
        "\n",
        "**Separation of Concerns:** The else block helps separate normal execution logic from exception handling logic. This makes your code cleaner, easier to maintain, and more understandable.\n",
        "\n"
      ],
      "metadata": {
        "id": "H8ofaALg13U6"
      }
    },
    {
      "cell_type": "markdown",
      "source": [
        "#17. What are the common logging levels in Python?\n",
        ":-\n",
        "1. **DEBUG:** This is the lowest level of logging. It is used for detailed diagnostic information, typically useful for diagnosing problems during development.\n",
        "2. **INFO:** This level is used for informational messages that highlight the progress of the application under normal circumstances. It is used to confirm that the application is working as expected.\n",
        "3. **WARNING:** This level is used when something unexpected happens, but it doesn't necessarily prevent the program from continuing. It's a way to indicate a potential problem or situation that might require attention.\n",
        "4. **ERROR:** This level is used when there is an error in the application, but the program can still continue. It indicates a more severe issue than a warning.\n",
        "5. **CRITICAL:** This is the highest logging level, used when a critical error occurs. It indicates a serious problem that likely causes the program to terminate or that requires immediate attention."
      ],
      "metadata": {
        "id": "GjmbmXrO2VkV"
      }
    },
    {
      "cell_type": "markdown",
      "source": [
        "#18. What is the difference between os.fork() and multiprocessing in Python?\n",
        ":-\n",
        "#1.  os.fork()\n",
        "*   Platform Support\tUnix-based (Linux, macOS) only.\n",
        "\n",
        "*   Creates a child process by duplicating the parent process.\n",
        "*   Uses copy-on-write to share memory initially, but no explicit memory sharing.\n",
        "\n",
        "\n",
        "*   Uses copy-on-write to share memory initially, but no explicit memory sharing.\n",
        "\n",
        "\n",
        "#2.  multiprocessing\n",
        "\n",
        "\n",
        "*   Cross-platform (Unix, Windows).\n",
        "\n",
        "*   Creates a new process using the Process class.\n",
        "*   Provides explicit memory sharing ( Value, Array, Queue, Pipe).\n",
        "\n",
        "\n",
        "*   High-level concurrent or parallel tasks that work across platforms.\n",
        "\n",
        "\n"
      ],
      "metadata": {
        "id": "UwefnO8S3FeO"
      }
    },
    {
      "cell_type": "markdown",
      "source": [
        "#19. What is the importance of closing a file in Python?\n",
        ":-\n",
        "**Release File Descriptors:** Prevents running out of available file handles.\n",
        "\n",
        "**Flush Data:** Ensures all data is written to disk, preventing data loss.\n",
        "\n",
        "**Avoid Resource Leaks:** Helps avoid memory and resource exhaustion.\n",
        "\n",
        "**Prevent File Locking Issues:** Ensures the file is available for other processes or parts of your program.\n"
      ],
      "metadata": {
        "id": "jlyqOKcm4DGP"
      }
    },
    {
      "cell_type": "markdown",
      "source": [
        "#20. What is the difference between file.read() and file.readline() in Python?\n",
        ":-  \n",
        "#1.   file.read()\n",
        "*   Reads the entire content of the file.\n",
        "*   Return Value\tA single string containing the entire file content\n",
        "*   Reads the whole file at once.\n",
        "*   Best when the entire content is needed or for smaller files.\n",
        "\n",
        "#2.   file.readline()\n",
        "*   Reads a single line from the file.\n",
        "*   Return Value A single string containing one line, including the newline character\n",
        "*   Reads one line per call.\n",
        "*   Best for processing files line by line, especially large files.\n",
        "\n"
      ],
      "metadata": {
        "id": "Y16A4Ur84glx"
      }
    },
    {
      "cell_type": "markdown",
      "source": [
        "#21. What is the logging module in Python used for?\n",
        ":-\n",
        "\n",
        "#1. Tracking Events:\n",
        "The logging module allows you to track events throughout the execution of a program. This is useful for understanding how the application is running, when certain actions occurred, and the sequence of operations.\n",
        "#2. Debugging:\n",
        "\n",
        "By logging important events or errors in your program, you can identify bugs and troubleshoot issues more easily. Instead of relying on print() statements or manual inspection, you can log the program's state and variable values at various points.\n",
        "#3.Error Handling:\n",
        "\n",
        "The logging module can capture and record errors, warnings, and exceptions that occur in the program.\n",
        "#4. Monitoring:\n",
        "\n",
        "In production systems, logging provides a way to monitor the health of the application by tracking events like startup, shutdown, user logins, and resource usage."
      ],
      "metadata": {
        "id": "UWF8lFTj5mbQ"
      }
    },
    {
      "cell_type": "markdown",
      "source": [
        "#22. What is the os module in Python used for in file handling?\n",
        ":-  \n",
        "The os module in Python provides a wide range of functions to interact with the operating system, including utilities for file and directory manipulation, process management, environment variables, and more. When it comes to file handling, the os module provides essential tools to work with the file system, such as checking the existence of files or directories, creating directories, renaming or removing files, and managing file paths.\n",
        "**Path manipulation:** os.path.join(), os.path.exists(), os.path.isfile(), os.path.abspath(), etc.\n",
        "\n",
        "**Directory management:** os.mkdir(), os.makedirs(), os.rmdir(), os.removedirs().\n",
        "\n",
        "**File manipulation:** os.remove(), os.rename(), os.unlink()."
      ],
      "metadata": {
        "id": "WMWJjeyt8tyN"
      }
    },
    {
      "cell_type": "markdown",
      "source": [
        "#23.What are the challenges associated with memory management in Python?\n",
        ":-\n",
        "1.   Python’s memory management is subject to fragmentation, especially when creating and deleting many small objects. This is a particular problem in long-running processes where memory usage gradually increases over time.\n",
        "2.   Long-running applications, such as web servers or background services, may experience increasing memory usage due to objects accumulating in memory over time.\n",
        "\n",
        "3.   While Python is a high-level language and offers ease of use, the additional memory overhead associated with objects can be inefficient for memory-sensitive applications.\n",
        "4.   Memory leaks can be hard to detect because Python’s garbage collection mechanism is usually automatic, and memory may not be reclaimed immediately.\n",
        "\n",
        "\n",
        "\n",
        "\n",
        "\n"
      ],
      "metadata": {
        "id": "oq_jLmhc8vHI"
      }
    },
    {
      "cell_type": "markdown",
      "source": [
        "#24.How do you raise an exception manually in Python?\n",
        ":-  \n",
        "1. Exception Type: The Exception class is the base class for all built-in exceptions in Python. You can raise any exception derived from it, including custom exceptions (which we'll discuss below).\n",
        "\n",
        "2. Custom Error Messages: You can provide a string message that describes the error. This message is passed to the exception object and can be displayed when the exception is caught or logged.\n",
        "\n",
        "3. Custom Exception Classes: You can also define your own exceptions by creating classes that inherit from Python’s built-in Exception class.\n",
        "\n"
      ],
      "metadata": {
        "id": "Dr70BwLa8wxY"
      }
    },
    {
      "cell_type": "markdown",
      "source": [
        "#25.Why is it important to use multithreading in certain applications?\n",
        ":-\n",
        "#1. Improved Performance Through Concurrency\n",
        "Concurrency refers to the ability of a program to handle multiple tasks at once. Multithreading allows multiple threads to run in parallel, enabling an application to perform multiple operations concurrently.\n",
        "#2.Better CPU Utilization\n",
        "Parallelism refers to performing tasks simultaneously using multiple processors (or cores) in a system.\n",
        "#3. Increased Responsiveness in UI\n",
        "Responsiveness is critical in GUI-based applications (e.g., desktop applications or mobile apps). If the main thread is busy performing time-consuming operations.\n",
        "#5. Improved Resource Sharing\n",
        "Threads share the same memory space within a process, which makes it easier and more efficient to share resources between threads, compared to processes, which have separate memory spaces.\n"
      ],
      "metadata": {
        "id": "P4wdtXdD8yva"
      }
    },
    {
      "cell_type": "markdown",
      "source": [
        "#PRACTICAL QUESTION\n"
      ],
      "metadata": {
        "id": "W_sJIrmn_b8m"
      }
    },
    {
      "cell_type": "code",
      "source": [
        "#1. How can you open a file for writing in Python and write a string to it\n",
        "# Open the file in write mode ('w')\n",
        "with open('Soumen.txt', 'w') as file:\n",
        "    # Write a string to the file\n",
        "    file.write(\"Hello, world!\\n\")\n",
        "    file.write(\"How are you?\\n\")\n"
      ],
      "metadata": {
        "id": "w-1VMiy1IlgF"
      },
      "execution_count": 18,
      "outputs": []
    },
    {
      "cell_type": "code",
      "source": [
        "#2. Write a Python program to read the contents of a file and print each line\n",
        "# Open the file in read mode ('r')\n",
        "with open('Soumen.txt', 'r') as file:\n",
        "    for line in file:\n",
        "        # Print each line\n",
        "        print(line, end='')  # end='' to avoid adding extra newlines\n"
      ],
      "metadata": {
        "colab": {
          "base_uri": "https://localhost:8080/"
        },
        "id": "FGHqX3ubMzpR",
        "outputId": "301c505f-593a-485e-a5af-3b5399f51116"
      },
      "execution_count": 19,
      "outputs": [
        {
          "output_type": "stream",
          "name": "stdout",
          "text": [
            "Hello, world!\n",
            "How are you?\n"
          ]
        }
      ]
    },
    {
      "cell_type": "code",
      "source": [
        "#3. How would you handle a case where the file doesn't exist while trying to open it for reading.\n",
        "try:\n",
        "    # Try to open the file in read mode\n",
        "    with open('Soumen.txt', 'r') as file:\n",
        "        # If file is opened successfully, read and print its contents\n",
        "        for line in file:\n",
        "            print(line, end='')\n",
        "except FileNotFoundError:\n",
        "    # Handle the case where the file doesn't exist\n",
        "    print(\"Error: The file does not exist.\")\n",
        "\n",
        "#example2\n",
        "try:\n",
        "    # Try to open the file in read mode\n",
        "    with open('samne.txt', 'r') as file:\n",
        "        # If file is opened successfully, read and print its contents\n",
        "        for line in file:\n",
        "            print(line, end='')\n",
        "except FileNotFoundError:\n",
        "    # Handle the case where the file doesn't exist\n",
        "    print(\"Error: The file does not exist.\")"
      ],
      "metadata": {
        "colab": {
          "base_uri": "https://localhost:8080/"
        },
        "id": "1ZVB-bO2M4Za",
        "outputId": "7265faa1-fd3d-44c9-9149-debf5a57458d"
      },
      "execution_count": 20,
      "outputs": [
        {
          "output_type": "stream",
          "name": "stdout",
          "text": [
            "Hello, world!\n",
            "How are you?\n",
            "Error: The file does not exist.\n"
          ]
        }
      ]
    },
    {
      "cell_type": "code",
      "source": [
        "#4. Write a Python script that reads from one file and writes its content to another file\n",
        "try:\n",
        "    # Open the source file in read mode ('r')\n",
        "    with open('Soumen.txt', 'r') as source_file:\n",
        "        # Open the destination file in write mode ('w')\n",
        "        with open('file.txt', 'w') as destination_file:\n",
        "            # Read the contents of the source file and write to the destination file\n",
        "            for line in source_file:\n",
        "                destination_file.write(line)\n",
        "    print(\"File content copied successfully.\")\n",
        "except :\n",
        "  print(\"Error: file not copied\")\n",
        "with open('file.txt', 'r') as file: #print the coppied file\n",
        "    for line in file:\n",
        "        print(line, end='')\n",
        "\n"
      ],
      "metadata": {
        "colab": {
          "base_uri": "https://localhost:8080/"
        },
        "id": "ihKue1EYPKMM",
        "outputId": "3c4ba54b-0aaa-4ab6-a6ac-c6b1823bb5f1"
      },
      "execution_count": 22,
      "outputs": [
        {
          "output_type": "stream",
          "name": "stdout",
          "text": [
            "File content copied successfully.\n",
            "Hello, world!\n",
            "How are you?\n"
          ]
        }
      ]
    },
    {
      "cell_type": "code",
      "source": [
        "#5. How would you catch and handle division by zero error in Python\n",
        "try:\n",
        "    # Try to perform division\n",
        "    num1 = 10\n",
        "    num2 = 0\n",
        "    num3 = num1/num2\n",
        "    print(f\"result={num3}\")\n",
        "except ZeroDivisionError:\n",
        "    # Handle division by zero error\n",
        "    print(\"Cannot divide by zero.\")\n"
      ],
      "metadata": {
        "colab": {
          "base_uri": "https://localhost:8080/"
        },
        "id": "O9GSG9-ASJUy",
        "outputId": "17cd268c-28fc-46cb-f540-eb4678b785ee"
      },
      "execution_count": 34,
      "outputs": [
        {
          "output_type": "stream",
          "name": "stdout",
          "text": [
            "result=5.0\n"
          ]
        }
      ]
    },
    {
      "cell_type": "code",
      "source": [
        "#6. Write a Python program that logs an error message to a log file when a division by zero exception occurs\n",
        "import logging\n",
        "logging.basicConfig(\n",
        "    filename='error_log.txt',  # The log file where errors will be stored\n",
        "    level=logging.ERROR,       # Only log ERROR level messages and higher\n",
        "    format='%(asctime)s - %(levelname)s - %(message)s'\n",
        ")\n",
        "\n",
        "try:\n",
        "    num1=20\n",
        "    num2 = 0\n",
        "    num3 = num1/num2\n",
        "    print(f\"result= {num3} \")\n",
        "\n",
        "except ZeroDivisionError as e:\n",
        "    # Log the division by zero error\n",
        "    logging.error(f\"Division by zero occurred: {e}\")\n",
        "    print(\" Cannot divide by zero.\")  # Optional: Print a message to the console\n"
      ],
      "metadata": {
        "colab": {
          "base_uri": "https://localhost:8080/"
        },
        "id": "6NoalWLhSxGD",
        "outputId": "d0dcd0aa-0bc5-4370-dd50-57c6b6c3fe9c"
      },
      "execution_count": 37,
      "outputs": [
        {
          "output_type": "stream",
          "name": "stderr",
          "text": [
            "ERROR:root:Division by zero occurred: division by zero\n"
          ]
        },
        {
          "output_type": "stream",
          "name": "stdout",
          "text": [
            " Cannot divide by zero.\n"
          ]
        }
      ]
    },
    {
      "cell_type": "code",
      "source": [
        "#7 How do you log information at different levels (INFO, ERROR, WARNING) in Python using the logging module.\n",
        "import logging\n",
        "logging.basicConfig(\n",
        "    filename='shyam_log.txt',  # Log file name where messages will be stored\n",
        "    level=logging.DEBUG,     # Set the minimum logging level to DEBUG (logs everything)\n",
        "    format='%(asctime)s - %(levelname)s - %(message)s'\n",
        ")\n",
        "logging.debug('This is a debug message')\n",
        "logging.info('This is an info message')\n",
        "logging.warning('This is a warning message')\n",
        "logging.error('This is an error message')\n",
        "logging.critical('This is a critical message')\n"
      ],
      "metadata": {
        "colab": {
          "base_uri": "https://localhost:8080/"
        },
        "id": "Vkw19FRgUaw1",
        "outputId": "5c8e0e13-e6b4-4594-f665-ccdb98dbb87e"
      },
      "execution_count": 38,
      "outputs": [
        {
          "output_type": "stream",
          "name": "stderr",
          "text": [
            "WARNING:root:This is a warning message\n",
            "ERROR:root:This is an error message\n",
            "CRITICAL:root:This is a critical message\n"
          ]
        }
      ]
    },
    {
      "cell_type": "code",
      "source": [
        "#8.  Write a program to handle a file opening error using exception handling\n",
        "try:\n",
        "    # Attempt to open the file in read mode\n",
        "    with open('Soumen.txt', 'r') as file:\n",
        "        # Read and print the contents of the file\n",
        "        content = file.read()\n",
        "        print(content)\n",
        "\n",
        "except FileNotFoundError:\n",
        "    print(\" The file does not exist.\")\n",
        "\n",
        "except PermissionError:\n",
        "    print(\"You do not have permission to read the file.\")\n",
        "\n",
        "except Exception as e:\n",
        "    print(f\"An unexpected error occurred: {e}\")\n"
      ],
      "metadata": {
        "colab": {
          "base_uri": "https://localhost:8080/"
        },
        "id": "aLg76yPzVaFc",
        "outputId": "a6ad3cb9-e80d-4de6-ad25-5fe5cf347509"
      },
      "execution_count": 41,
      "outputs": [
        {
          "output_type": "stream",
          "name": "stdout",
          "text": [
            "Hello, world!\n",
            "How are you?\n",
            "\n"
          ]
        }
      ]
    },
    {
      "cell_type": "code",
      "source": [
        "#9. How can you read a file line by line and store its content in a list in Python.\n",
        "# Open the file and read all lines at once into a list\n",
        "with open('Soumen.txt', 'r') as file:\n",
        "    lines_list = file.readlines()\n",
        "# Optionally, strip the newline characters from each line\n",
        "lines_list = [line.strip() for line in lines_list]\n",
        "print(lines_list)\n"
      ],
      "metadata": {
        "colab": {
          "base_uri": "https://localhost:8080/"
        },
        "id": "svsUCzUIV8DX",
        "outputId": "5a1d411d-f6a7-42d9-f3b6-44e19c6968c4"
      },
      "execution_count": 42,
      "outputs": [
        {
          "output_type": "stream",
          "name": "stdout",
          "text": [
            "['Hello, world!', 'How are you?']\n"
          ]
        }
      ]
    },
    {
      "cell_type": "code",
      "source": [
        "#10. How can you append data to an existing file in Python.\n",
        "# Open the file in append mode\n",
        "with open('Soumen.txt', 'a') as file:\n",
        "    # Append some new data to the file\n",
        "    file.write(\"I am fine.\\n\")\n",
        "    file.write(\"What are you doing?\")\n",
        "\n",
        "print(\"Data has been appended to the file.\")\n",
        "with open('Soumen.txt', 'r') as file:\n",
        "    content = file.read()\n",
        "    print(content)\n",
        ""
      ],
      "metadata": {
        "colab": {
          "base_uri": "https://localhost:8080/"
        },
        "id": "ZIGj4e71V726",
        "outputId": "b8f86deb-db25-4f29-9d65-8658e83b1be3"
      },
      "execution_count": 47,
      "outputs": [
        {
          "output_type": "stream",
          "name": "stdout",
          "text": [
            "Data has been appended to the file.\n",
            "Hello, world!\n",
            "How are you?\n",
            "I am fine.\n",
            "What are you doing?\n",
            "I am fine.\n",
            "What are you doing?\n",
            "I am fine.\n",
            "What are you doing?\n",
            "I am fine.\n",
            "What are you doing?\n"
          ]
        }
      ]
    },
    {
      "cell_type": "code",
      "source": [
        "#11. Write a Python program that uses a try-except block to handle an error when attempting to access a dictionary key that doesn't exist.\n",
        "# Define a dictionary with some key-value pairs\n",
        "my_dict = {'name': 'Soumen', 'age': 20, 'city': 'Kolkata'}\n",
        "\n",
        "# Try to access a key that might not exist in the dictionary\n",
        "try:\n",
        "    key = 'Nationality'  # Key that doesn't exist in the dictionary\n",
        "    value = my_dict[key]  # Attempting to access a non-existent key\n",
        "    print(f\"The value for '{key}' is {value}\")\n",
        "\n",
        "except KeyError:\n",
        "    # Handle the case where the key does not exist in the dictionary\n",
        "    print(\"Error: The key does not exist in the dictionary.\")\n"
      ],
      "metadata": {
        "colab": {
          "base_uri": "https://localhost:8080/"
        },
        "id": "JbFyRzR8Xhfj",
        "outputId": "9e3eb1f5-dde5-414d-b3eb-8995dffb1929"
      },
      "execution_count": 48,
      "outputs": [
        {
          "output_type": "stream",
          "name": "stdout",
          "text": [
            "Error: The key does not exist in the dictionary.\n"
          ]
        }
      ]
    },
    {
      "cell_type": "code",
      "source": [
        "#12. Write a program that demonstrates using multiple except blocks to handle different types of exceptions\n",
        "def divide_numbers():\n",
        "    try:\n",
        "        num1 = int(input(\"Enter the first number: \"))\n",
        "        num2 = int(input(\"Enter the second number: \"))\n",
        "        result = num1 / num2\n",
        "        print(f\"The result of {num1} divided by {num2} is {result}\")\n",
        "\n",
        "    except ZeroDivisionError:\n",
        "        print(\"Cannot divide by zero!\")\n",
        "\n",
        "    except ValueError:\n",
        "        print(\"Invalid input. Please enter a valid number.\")\n",
        "\n",
        "    except Exception as e:\n",
        "        print(f\"An unexpected error occurred: {e}\")\n",
        "divide_numbers()\n"
      ],
      "metadata": {
        "colab": {
          "base_uri": "https://localhost:8080/"
        },
        "id": "ZrwZ74o7X-07",
        "outputId": "fa2bda07-cf7c-4a79-b707-2c28e8e79b18"
      },
      "execution_count": 52,
      "outputs": [
        {
          "output_type": "stream",
          "name": "stdout",
          "text": [
            "Enter the first number: 50\n",
            "Enter the second number: 0\n",
            "Cannot divide by zero!\n"
          ]
        }
      ]
    },
    {
      "cell_type": "code",
      "source": [
        "#13. How would you check if a file exists before attempting to read it in Python\n",
        "#using os.path.exist\n",
        "import os\n",
        "file_path = 'Soumen.txt'\n",
        "# Check if the file exists\n",
        "if os.path.exists(file_path):\n",
        "    with open(file_path, 'r') as file:\n",
        "        content = file.read()\n",
        "        print(content)\n",
        "else:\n",
        "    print(f\"The file '{file_path}' does not exist.\")\n"
      ],
      "metadata": {
        "colab": {
          "base_uri": "https://localhost:8080/"
        },
        "id": "obM-WSPUYxvC",
        "outputId": "ec371f69-a25d-45ce-8202-d2616fa7467a"
      },
      "execution_count": 53,
      "outputs": [
        {
          "output_type": "stream",
          "name": "stdout",
          "text": [
            "Hello, world!\n",
            "How are you?\n",
            "I am fine.\n",
            "What are you doing?\n",
            "I am fine.\n",
            "What are you doing?\n",
            "I am fine.\n",
            "What are you doing?\n",
            "I am fine.\n",
            "What are you doing?\n"
          ]
        }
      ]
    },
    {
      "cell_type": "code",
      "source": [
        "#14. Write a program that uses the logging module to log both informational and error messages.\n",
        "import logging\n",
        "logging.basicConfig(\n",
        "    filename='ram_log.txt',  # Log file where messages will be written\n",
        "    level=logging.DEBUG,\n",
        "    format='%(asctime)s - %(levelname)s - %(message)s'\n",
        ")\n",
        "logging.info('This is an informational message.')\n",
        "logging.warning('This is a warning message.')\n",
        "logging.error('This is an error message.')\n",
        "logging.critical('This is a critical message.')\n",
        "try:\n",
        "    x = 30 / 0  # Division by zero will raise an exception\n",
        "except ZeroDivisionError as e:\n",
        "    logging.exception(\" not division by zero\")\n",
        "\n",
        "print(\"Log messages have been written to 'ram_log.txt'.\")\n"
      ],
      "metadata": {
        "colab": {
          "base_uri": "https://localhost:8080/"
        },
        "id": "xlsJdsBGZQjp",
        "outputId": "f7f2bc78-4be2-4f5d-ebad-e9e9932489ea"
      },
      "execution_count": 54,
      "outputs": [
        {
          "output_type": "stream",
          "name": "stderr",
          "text": [
            "WARNING:root:This is a warning message.\n",
            "ERROR:root:This is an error message.\n",
            "CRITICAL:root:This is a critical message.\n",
            "ERROR:root: not division by zero\n",
            "Traceback (most recent call last):\n",
            "  File \"<ipython-input-54-b79b951cc0bf>\", line 13, in <cell line: 12>\n",
            "    x = 30 / 0  # Division by zero will raise an exception\n",
            "ZeroDivisionError: division by zero\n"
          ]
        },
        {
          "output_type": "stream",
          "name": "stdout",
          "text": [
            "Log messages have been written to 'ram_log.txt'.\n"
          ]
        }
      ]
    },
    {
      "cell_type": "code",
      "source": [
        "#15.Write a Python program that prints the content of a file and handles the case when the file is empty.\n",
        "def print_file_content(file_path):\n",
        "    try:\n",
        "        # Open the file in read mode\n",
        "        with open(file_path, 'r') as file:\n",
        "            content = file.read()\n",
        "\n",
        "            # Check if the file is empty\n",
        "            if not content:\n",
        "                print(\"The file is empty.\")\n",
        "            else:\n",
        "                print(\"File content:\")\n",
        "                print(content)\n",
        "\n",
        "    except FileNotFoundError:\n",
        "        print(f\"Error: The file '{file_path}' does not exist.\")\n",
        "    except Exception as e:\n",
        "        print(f\"An unexpected error occurred: {e}\")\n",
        "\n",
        "# Specify the file path\n",
        "file_path = 'Soumen.txt'\n",
        "\n",
        "# Call the function to print file content\n",
        "print_file_content(file_path)\n"
      ],
      "metadata": {
        "colab": {
          "base_uri": "https://localhost:8080/"
        },
        "id": "WEgDi7NHalUT",
        "outputId": "5e96a8e9-1d55-4b9f-8354-0093402d6a2b"
      },
      "execution_count": 55,
      "outputs": [
        {
          "output_type": "stream",
          "name": "stdout",
          "text": [
            "File content:\n",
            "Hello, world!\n",
            "How are you?\n",
            "I am fine.\n",
            "What are you doing?\n",
            "I am fine.\n",
            "What are you doing?\n",
            "I am fine.\n",
            "What are you doing?\n",
            "I am fine.\n",
            "What are you doing?\n"
          ]
        }
      ]
    },
    {
      "cell_type": "code",
      "source": [
        "#16.Demonstrate how to use memory profiling to check the memory usage of a small program.\n"
      ],
      "metadata": {
        "id": "3DGiwg7aewAA"
      },
      "execution_count": 84,
      "outputs": []
    },
    {
      "cell_type": "markdown",
      "source": [
        "#16.Demonstrate how to use memory profiling to check the memory usage of a small program.\n",
        ":- **memory_profiler Package:** A popular choice for memory profiling in Python is the memory_profiler package.\n",
        "\n",
        "You would typically install it using pip:pip install memory_profiler\n",
        "\n",
        "**Decorator:** The memory_profiler package provides a @profile decorator that you can apply to functions you want to analyze.\n",
        "\n",
        "**Running the Profiler:** You can then run your script with a special command to generate memory usage reports.\n",
        "\n",
        "\n",
        "\n"
      ],
      "metadata": {
        "id": "37FDlyAgqYGl"
      }
    },
    {
      "cell_type": "code",
      "source": [
        "#17. Write a Python program to create and write a list of numbers to a file, one number per line.\n",
        "def write_numbers_to_files(filename, numbers):\n",
        "    try:\n",
        "        with open(filename, 'w') as file:\n",
        "            for number in numbers:\n",
        "                file.write(f\"{number}\\n\")\n",
        "        print(f\"Numbers have been written to '{filename}'.\")\n",
        "\n",
        "    except Exception as e:\n",
        "        print(f\"An error occurred: {e}\")\n",
        "\n",
        "# Example list of numbers\n",
        "numbers_list = [10,20,30,40,50,83,45,73]\n",
        "\n",
        "# Call the function to write numbers to the file\n",
        "write_numbers_to_files('numbers.txt', numbers_list)\n",
        "with open('numbers.txt', 'r') as file:\n",
        "    content = file.read()\n",
        "    print(content)\n",
        "\n"
      ],
      "metadata": {
        "colab": {
          "base_uri": "https://localhost:8080/"
        },
        "id": "mDgVZkHqf2_t",
        "outputId": "0ef7b097-9f74-4bbf-f81d-873ad4e7f84c"
      },
      "execution_count": 60,
      "outputs": [
        {
          "output_type": "stream",
          "name": "stdout",
          "text": [
            "Numbers have been written to 'numbers.txt'.\n",
            "10\n",
            "20\n",
            "30\n",
            "40\n",
            "50\n",
            "83\n",
            "45\n",
            "73\n",
            "\n"
          ]
        }
      ]
    },
    {
      "cell_type": "code",
      "source": [
        "#18. How would you implement a basic logging setup that logs to a file with rotation after 1MB?\n",
        "import logging\n",
        "from logging.handlers import RotatingFileHandler\n",
        "# Create a logger\n",
        "logger = logging.getLogger('raj_log')\n",
        "logger.setLevel(logging.INFO)\n",
        "# Create a RotatingFileHandler\n",
        "handler = RotatingFileHandler('my_log.log', maxBytes=1024 * 1024, backupCount=5)\n",
        "formatter = logging.Formatter('%(asctime)s - %(name)s - %(levelname)s - %(message)s')\n",
        "handler.setFormatter(formatter)\n",
        "# Add the handler to the logger\n",
        "logger.addHandler(handler)\n",
        "# Now you can use the logger to log messages\n",
        "logger.info('This is an informational message.')\n",
        "logger.warning('This is a warning message.')\n",
        "logger.error('This is an error message.')"
      ],
      "metadata": {
        "colab": {
          "base_uri": "https://localhost:8080/"
        },
        "id": "BTZkEAKRhqb5",
        "outputId": "20bdf785-20c6-4c01-889b-398b5c7502ca"
      },
      "execution_count": 61,
      "outputs": [
        {
          "output_type": "stream",
          "name": "stderr",
          "text": [
            "INFO:raj_log:This is an informational message.\n",
            "WARNING:raj_log:This is a warning message.\n",
            "ERROR:raj_log:This is an error message.\n"
          ]
        }
      ]
    },
    {
      "cell_type": "code",
      "source": [
        "#19. Write a program that handles both IndexError and KeyError using a try-except block\n",
        "try:\n",
        "    my_list = [1, 2, 3]\n",
        "    print(my_list[5])  # This will raise an IndexError\n",
        "except IndexError:\n",
        "    print(\"IndexError: You tried to access an invalid index.\")\n",
        "\n",
        "try:\n",
        "    my_dict = {'a': 4, 'b': 5}\n",
        "    print(my_dict['d'])  # This will raise a KeyError\n",
        "except KeyError:\n",
        "    print(\"KeyError: The key you specified does not exist in the dictionary.\")"
      ],
      "metadata": {
        "colab": {
          "base_uri": "https://localhost:8080/"
        },
        "id": "RBHQyoeQjZCf",
        "outputId": "5a7993e0-4c10-435f-91ab-43a33123d156"
      },
      "execution_count": 69,
      "outputs": [
        {
          "output_type": "stream",
          "name": "stdout",
          "text": [
            "IndexError: You tried to access an invalid index.\n",
            "KeyError: The key you specified does not exist in the dictionary.\n"
          ]
        }
      ]
    },
    {
      "cell_type": "code",
      "source": [
        "#20.How would you open a file and read its contents using a context manager in Python?\n",
        "with open('Soumen.txt', 'r') as file:\n",
        "    # Code to read the file's contents goes here\n",
        "    contents = file.read()\n",
        "    print(contents)"
      ],
      "metadata": {
        "colab": {
          "base_uri": "https://localhost:8080/"
        },
        "id": "zPssA5ycjY4j",
        "outputId": "893287d2-99f3-4675-8a6e-131d81af1f0b"
      },
      "execution_count": 70,
      "outputs": [
        {
          "output_type": "stream",
          "name": "stdout",
          "text": [
            "Hello, world!\n",
            "How are you?\n",
            "I am fine.\n",
            "What are you doing?\n",
            "I am fine.\n",
            "What are you doing?\n",
            "I am fine.\n",
            "What are you doing?\n",
            "I am fine.\n",
            "What are you doing?\n"
          ]
        }
      ]
    },
    {
      "cell_type": "code",
      "source": [
        "#21. Write a Python program that reads a file and prints the number of occurrences of a specific word.\n",
        "def count_word_occurrences(file_path, target_word):\n",
        "    try:\n",
        "        with open(file_path, 'r') as file:\n",
        "            content = file.read()\n",
        "            words = content.lower().split()  # Convert to lowercase for case-insensitive count\n",
        "            word_count = words.count(target_word.lower())\n",
        "            print(f\"The word '{target_word}' appears {word_count} times in the file.\")\n",
        "\n",
        "    except FileNotFoundError:\n",
        "        print(f\"Error: The file '{file_path}' does not exist.\")\n",
        "    except Exception as e:\n",
        "        print(f\"An unexpected error occurred: {e}\")\n",
        "file_path = 'Soumen.txt'  # Replace with the actual file path\n",
        "target_word = 'I'    # Replace with the word you want to count\n",
        "\n",
        "count_word_occurrences(file_path, target_word)\n"
      ],
      "metadata": {
        "colab": {
          "base_uri": "https://localhost:8080/"
        },
        "id": "WNXlRE4ujYps",
        "outputId": "5c754651-8331-44d2-b9b6-22304355b5c5"
      },
      "execution_count": 73,
      "outputs": [
        {
          "output_type": "stream",
          "name": "stdout",
          "text": [
            "The word 'I' appears 4 times in the file.\n"
          ]
        }
      ]
    },
    {
      "cell_type": "code",
      "source": [
        "#22. How can you check if a file is empty before attempting to read its contents?\n",
        "import os\n",
        "def is_file_empty(file_path):\n",
        "    return os.stat(file_path).st_size == 0\n",
        "file_path = \"Soumen.txt\"\n",
        "if is_file_empty(file_path):\n",
        "    print(f\"The file '{file_path}' is empty.\")\n",
        "else:\n",
        "    # Proceed with reading the file\n",
        "    with open(file_path, 'r') as file:\n",
        "      contents = file.read()\n",
        "    print(contents)"
      ],
      "metadata": {
        "colab": {
          "base_uri": "https://localhost:8080/"
        },
        "id": "zTHGxT3njYA-",
        "outputId": "c64d3e60-562c-46b1-ee84-62be07afdbc8"
      },
      "execution_count": 80,
      "outputs": [
        {
          "output_type": "stream",
          "name": "stdout",
          "text": [
            "Hello, world!\n",
            "How are you?\n",
            "I am fine.\n",
            "What are you doing?\n",
            "I am fine.\n",
            "What are you doing?\n",
            "I am fine.\n",
            "What are you doing?\n",
            "I am fine.\n",
            "What are you doing?\n"
          ]
        }
      ]
    },
    {
      "cell_type": "code",
      "source": [
        "#23. Write a Python program that writes to a log file when an error occurs during file handling.\n",
        "import logging\n",
        "logging.basicConfig(\n",
        "    filename='file_handeling.log',\n",
        "    level=logging.ERROR,\n",
        "    format='%(asctime)s - %(levelname)s - %(message)s'\n",
        ")\n",
        "def handle_file_operations():\n",
        "    try:\n",
        "        with open('exam.txt', 'r') as file:\n",
        "            contents = file.read()\n",
        "            print(contents)\n",
        "    except FileNotFoundError as e:\n",
        "        # Log the error if the file is not found\n",
        "        logging.error(f\"FileNotFoundError: {e}\")\n",
        "        print(f\"Error: {e}\")\n",
        "\n",
        "    except PermissionError as e:\n",
        "        # Log the error if there's a permission issue\n",
        "        logging.error(f\"PermissionError: {e}\")\n",
        "        print(f\"Error: {e}\")\n",
        "\n",
        "    except Exception as e:\n",
        "        # Log any other unexpected errors\n",
        "        logging.error(f\"An unexpected error occurred: {e}\")\n",
        "        print(f\"An unexpected error occurred: {e}\")\n",
        "\n",
        "# Call the function to handle file operations\n",
        "handle_file_operations()\n"
      ],
      "metadata": {
        "colab": {
          "base_uri": "https://localhost:8080/"
        },
        "id": "7AtPf7ecjXyo",
        "outputId": "4026f1f6-92f8-434b-9f88-edea827079d2"
      },
      "execution_count": 82,
      "outputs": [
        {
          "output_type": "stream",
          "name": "stderr",
          "text": [
            "ERROR:root:FileNotFoundError: [Errno 2] No such file or directory: 'exam.txt'\n"
          ]
        },
        {
          "output_type": "stream",
          "name": "stdout",
          "text": [
            "Error: [Errno 2] No such file or directory: 'exam.txt'\n"
          ]
        }
      ]
    }
  ]
}